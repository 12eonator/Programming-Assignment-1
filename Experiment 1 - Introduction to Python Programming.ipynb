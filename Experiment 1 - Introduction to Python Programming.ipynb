{
 "cells": [
  {
   "cell_type": "markdown",
   "id": "5cbee3de-e80d-4b1d-a167-93f2763e4c39",
   "metadata": {},
   "source": [
    "## ALPHABET SOUP PROBLEM\n",
    "Create a function that takes a string and returns a string with its letters\r\n",
    "in alphabetical order."
   ]
  },
  {
   "cell_type": "code",
   "execution_count": 5,
   "id": "ffda6747-9c3d-4dac-b27e-a9331d786f80",
   "metadata": {},
   "outputs": [
    {
     "data": {
      "text/plain": [
       "'aacccccceiiiiiilllmmnnnnooooooooopprrsssstuuv'"
      ]
     },
     "execution_count": 5,
     "metadata": {},
     "output_type": "execute_result"
    }
   ],
   "source": [
    "# Create a function named alphabetize\n",
    "def alphabetize(word):\n",
    "    arranged = sorted(word.lower()) #arrange the converted lowercase letters using the function sorted \n",
    "    arranged = \"\".join(arranged) #makes the arranged list a string\n",
    "    return arranged\n",
    "alphabetize(\"pneumonoultramicroscopicsilicovolcanoconiosis\")\n"
   ]
  },
  {
   "cell_type": "markdown",
   "id": "88fb37b8-5ec0-484a-949e-157591b13f42",
   "metadata": {},
   "source": [
    "## EMOTICON PROBLEM\n",
    "Create a function that changes specific words into emoticons. Given a sentence \n",
    "as a string, replace the words smile, grin, sad and mad with their corresponding emoticon"
   ]
  },
  {
   "cell_type": "code",
   "execution_count": 3,
   "id": "4ce888c9-a69b-4e81-9e5f-1bdb3d1540a6",
   "metadata": {},
   "outputs": [
    {
     "name": "stdout",
     "output_type": "stream",
     "text": [
      "I am :(( , :D , :) , and >:( \n"
     ]
    }
   ],
   "source": [
    "# Dictionary of Emoticons is created\n",
    "emoticons = {\"smile\": \":)\",\n",
    "             \"grin\": \":D\", \n",
    "             \"sad\": \":((\", \n",
    "             \"mad\":\">:(\"}\n",
    "# Function emotify\n",
    "def emotify(phrase):\n",
    "    #Converts phrase into a list\n",
    "    phr_list = phrase.split() \n",
    "    result = [] #Pre-made list where results are stored\n",
    "    for word in phr_list: #for every element of the list, checks if it has a key in the emoticons dictionary\n",
    "        if word in emoticons.keys() :\n",
    "            result.append(emoticons[word] + \" \") #convert key to its respective counterpart\n",
    "        else:\n",
    "            result.append(word + \" \") #add the word into result list if the word is not a key\n",
    "    print(\"\".join(result)) #converts result to a string\n",
    "\n",
    "emotify(\"I am sad , grin , smile , and mad\")\n"
   ]
  },
  {
   "cell_type": "markdown",
   "id": "36c89f7b-03d5-4927-8982-3801d706d103",
   "metadata": {},
   "source": [
    "## UNPACKING LIST PROBLEM \n",
    "Unpack the list writeyourcodehere into three variables, being first, \n",
    "middle, and last, with middle being everything in between the first and last element  Then print all thre \r\n",
    "variables."
   ]
  },
  {
   "cell_type": "code",
   "execution_count": 1,
   "id": "3be3d040-82a1-4e96-b490-4aff136eb2d3",
   "metadata": {},
   "outputs": [
    {
     "name": "stdout",
     "output_type": "stream",
     "text": [
      "First:  Americano     Middle:  ['Cappucinno', 'Latte', 'Matcha']     Last:  Muscovado\n"
     ]
    }
   ],
   "source": [
    "#Test List\n",
    "coffee = [\"Americano\", \"Cappucinno\", \"Latte\", \"Matcha\", \"Muscovado\"]\n",
    "\n",
    "#Function unpack\n",
    "def unpack(list):\n",
    "    #Stores the first and last element\n",
    "    first = list[0]\n",
    "    last = list[-1]\n",
    "    #Pops the first and last element\n",
    "    list.pop(0)\n",
    "    list.pop(-1)\n",
    "    #Remaining element is assigned in the middle variable\n",
    "    middle = list\n",
    "    #Prints all the variables\n",
    "    print(\"First: \", first, \"    Middle: \", middle,\"    Last: \", last )\n",
    "\n",
    "unpack(coffee)\n"
   ]
  },
  {
   "cell_type": "code",
   "execution_count": null,
   "id": "1263782e-f972-4958-8d69-4997b3d0d0b9",
   "metadata": {},
   "outputs": [],
   "source": []
  }
 ],
 "metadata": {
  "kernelspec": {
   "display_name": "Python 3 (ipykernel)",
   "language": "python",
   "name": "python3"
  },
  "language_info": {
   "codemirror_mode": {
    "name": "ipython",
    "version": 3
   },
   "file_extension": ".py",
   "mimetype": "text/x-python",
   "name": "python",
   "nbconvert_exporter": "python",
   "pygments_lexer": "ipython3",
   "version": "3.12.4"
  }
 },
 "nbformat": 4,
 "nbformat_minor": 5
}
